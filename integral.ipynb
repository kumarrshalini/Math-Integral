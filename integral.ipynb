{
  "nbformat": 4,
  "nbformat_minor": 0,
  "metadata": {
    "colab": {
      "provenance": []
    },
    "kernelspec": {
      "name": "python3",
      "display_name": "Python 3"
    },
    "language_info": {
      "name": "python"
    }
  },
  "cells": [
    {
      "cell_type": "code",
      "execution_count": 2,
      "metadata": {
        "id": "QPLtXsjG0HMv"
      },
      "outputs": [],
      "source": [
        "import sympy as smp"
      ]
    },
    {
      "cell_type": "code",
      "source": [
        "from sympy import *"
      ],
      "metadata": {
        "id": "8R-QUTOR0eKQ"
      },
      "execution_count": 3,
      "outputs": []
    },
    {
      "cell_type": "code",
      "source": [
        "x,y = smp.symbols('x y')"
      ],
      "metadata": {
        "id": "hDm3_ES80tK-"
      },
      "execution_count": 4,
      "outputs": []
    },
    {
      "cell_type": "code",
      "source": [
        "I=smp.integrate((2*smp.sin(x)+3*smp.cos(x))/(smp.sin(x)+4*smp.cos(x)))"
      ],
      "metadata": {
        "id": "6BFLgyX209cn"
      },
      "execution_count": 5,
      "outputs": []
    },
    {
      "cell_type": "code",
      "source": [
        "c= smp.symbols('c')"
      ],
      "metadata": {
        "id": "4mVW0P_m12Ah"
      },
      "execution_count": 6,
      "outputs": []
    },
    {
      "cell_type": "code",
      "source": [
        "I1=I+c"
      ],
      "metadata": {
        "id": "acSSk0GY2pAU"
      },
      "execution_count": 7,
      "outputs": []
    },
    {
      "cell_type": "code",
      "source": [
        "I1"
      ],
      "metadata": {
        "colab": {
          "base_uri": "https://localhost:8080/",
          "height": 53
        },
        "id": "Qg2tSKe42wxC",
        "outputId": "e347f929-9d6d-48cd-c42b-8c18d6f2e68b"
      },
      "execution_count": 8,
      "outputs": [
        {
          "output_type": "execute_result",
          "data": {
            "text/plain": [
              "c + 14*x/17 - 5*log(sin(x) + 4*cos(x))/17"
            ],
            "text/latex": "$\\displaystyle c + \\frac{14 x}{17} - \\frac{5 \\log{\\left(\\sin{\\left(x \\right)} + 4 \\cos{\\left(x \\right)} \\right)}}{17}$"
          },
          "metadata": {},
          "execution_count": 8
        }
      ]
    },
    {
      "cell_type": "code",
      "source": [
        "a=I1.coeff(x)"
      ],
      "metadata": {
        "id": "gzhfKbRu20Zn"
      },
      "execution_count": 14,
      "outputs": []
    },
    {
      "cell_type": "code",
      "source": [
        "b=I1.coeff(log(sin(x)+4*(cos(x))))"
      ],
      "metadata": {
        "id": "qYNZOQvjHwfF"
      },
      "execution_count": 15,
      "outputs": []
    },
    {
      "cell_type": "code",
      "source": [
        "c=a+b"
      ],
      "metadata": {
        "id": "hPxo0hmpI7NQ"
      },
      "execution_count": 16,
      "outputs": []
    },
    {
      "cell_type": "code",
      "source": [
        "c"
      ],
      "metadata": {
        "colab": {
          "base_uri": "https://localhost:8080/",
          "height": 51
        },
        "id": "kXjEiyvGJIFf",
        "outputId": "71c5c9c2-1b13-4971-c24a-5a13df69062b"
      },
      "execution_count": 17,
      "outputs": [
        {
          "output_type": "execute_result",
          "data": {
            "text/plain": [
              "9/17"
            ],
            "text/latex": "$\\displaystyle \\frac{9}{17}$"
          },
          "metadata": {},
          "execution_count": 17
        }
      ]
    },
    {
      "cell_type": "code",
      "source": [],
      "metadata": {
        "id": "OEd0oREJJMqQ"
      },
      "execution_count": null,
      "outputs": []
    }
  ]
}